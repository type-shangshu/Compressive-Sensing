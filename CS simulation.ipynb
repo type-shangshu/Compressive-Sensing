{
 "cells": [
  {
   "cell_type": "code",
   "execution_count": null,
   "id": "b678caf8",
   "metadata": {},
   "outputs": [],
   "source": [
    "import cv2\n",
    "import numpy as np\n",
    "# import scipy\n",
    "# from scipy import fftpack\n",
    "# from scipy.fftpack import dct, idct,fftn,ifftn\n",
    "from PIL import Image\n",
    "from matplotlib import pyplot as plt\n",
    "import torch\n",
    "from torch import nn\n",
    "from torch import optim\n",
    "import os\n",
    "import cvxpy as cp"
   ]
  },
  {
   "cell_type": "code",
   "execution_count": null,
   "id": "13a8d0ba",
   "metadata": {},
   "outputs": [],
   "source": [
    "import numpy as np\n",
    "import cv2\n",
    "from matplotlib import pyplot as plt\n",
    "from scipy.fft import dct\n",
    "from scipy.fft import idctn\n",
    "from scipy.fft import idct\n",
    "from scipy.fft import dctn\n",
    "from scipy.fft import fftn\n",
    "from scipy.fft import ifftn\n",
    "from scipy.sparse import random as sparse_random\n",
    "from scipy.optimize import minimize\n",
    "import cvxpy as cp"
   ]
  },
  {
   "cell_type": "code",
   "execution_count": null,
   "id": "44191e23",
   "metadata": {},
   "outputs": [],
   "source": [
    "def normalize(img):\n",
    "    min_ = np.min(img)\n",
    "    max_ = np.max(img)\n",
    "    goal = (2**8-1) * (img - min_) / (max_ - min_) if (max_ - min_) != 0 else img\n",
    "    goal = np.round(goal).astype(np.uint8)\n",
    "    return goal\n",
    "def bilateral(image,dia,sig_clr,sig_spc):\n",
    "    return (cv2.bilateralFilter(image,dia,sig_clr,sig_spc))"
   ]
  },
  {
   "cell_type": "code",
   "execution_count": null,
   "id": "d3d523c1",
   "metadata": {},
   "outputs": [],
   "source": [
    "def CS(image,ratio,alpha,size_d):\n",
    "    assert(np.shape(image) == (size_d,size_d))\n",
    "    #plt.imshow(image)\n",
    "    x = image.flatten()\n",
    "    x = np.float32(x)\n",
    "    s = len(x)\n",
    "    p = int(s*ratio)\n",
    "    psi=dct(np.float32(np.eye(s)))\n",
    "    np.random.seed(73)\n",
    "    phi = np.random.choice([-1,1],size=(p,s))\n",
    "    y = phi@x\n",
    "    alpha_hat = cp.Variable(s)\n",
    "    objective = cp.Minimize(cp.sum_squares(phi@psi@(alpha_hat).T - y) + alpha*cp.norm(alpha_hat, 1))\n",
    "    problem = cp.Problem(objective)\n",
    "    problem.solve()\n",
    "    #x_hat = idct(alpha_hat.value)\n",
    "    x_hat = psi@alpha_hat.value\n",
    "    img_hat = x_hat.reshape(size_d,size_d)\n",
    "#    plt.imshow(img_hat)\n",
    "    #img_hat = normalize(img_hat)\n",
    "    #img_hat = np.round(img_hat).astype(np.uint16)\n",
    "    return img_hat"
   ]
  },
  {
   "cell_type": "code",
   "execution_count": null,
   "id": "5b3fabaf",
   "metadata": {},
   "outputs": [],
   "source": [
    "def CS_whole(img,a,sr,d):\n",
    "    _res_ = np.ones_like(img)\n",
    "    _res_ = np.float32(_res_)\n",
    "    x_max,y_max = np.shape(img)\n",
    "    #print(x_max,y_max)\n",
    "    x = 0\n",
    "    y = 0\n",
    "    while (x<x_max):\n",
    "        y = 0\n",
    "        while(y<y_max):\n",
    "            _res_[x:x+d,y:y+d] = CS(image=img[x:x+d,y:y+d],ratio=sr,alpha=a,size_d=d)#调用CS分块处理\n",
    "            y += d\n",
    "            #print(x,y)\n",
    "        x += d\n",
    "    return _res_"
   ]
  },
  {
   "cell_type": "code",
   "execution_count": null,
   "id": "9b607faa",
   "metadata": {},
   "outputs": [],
   "source": [
    "def CS_simulation(image_name,sr):\n",
    "    image_path=os.path.join(root_dir, 'constructed_images',image_name)\n",
    "    #image = np.array(Image.open(image_path).convert(\"L\"))\n",
    "    image = cv2.imread(image_path,cv2.IMREAD_GRAYSCALE)\n",
    "    image = np.float32(image)\n",
    "    res64 = CS_whole(img=image,a=10,sr=0.2,d=64)\n",
    "    \n",
    "    return res64"
   ]
  },
  {
   "cell_type": "code",
   "execution_count": null,
   "id": "d9586e43",
   "metadata": {},
   "outputs": [],
   "source": [
    "root_dir=\"face_dataset/train\"\n",
    "raw_image_dir = os.path.join(root_dir, 'raw_images')\n",
    "constructed_image_dir = os.path.join(root_dir, 'constructed_images')\n",
    "all_files = os.listdir(constructed_image_dir)\n",
    "image_files = [file for file in all_files if file.lower().endswith(('.png', '.jpg', '.jpeg'))]\n",
    "image_files.sort()\n",
    "#openimg()\n",
    "for idx, name in enumerate(image_files):\n",
    "    CS_simulation(name,0.2).save(os.path.join(raw_image_dir, name))\n"
   ]
  },
  {
   "cell_type": "code",
   "execution_count": null,
   "id": "0e4c0cff",
   "metadata": {},
   "outputs": [],
   "source": []
  }
 ],
 "metadata": {
  "kernelspec": {
   "display_name": "Python 3 (ipykernel)",
   "language": "python",
   "name": "python3"
  },
  "language_info": {
   "codemirror_mode": {
    "name": "ipython",
    "version": 3
   },
   "file_extension": ".py",
   "mimetype": "text/x-python",
   "name": "python",
   "nbconvert_exporter": "python",
   "pygments_lexer": "ipython3",
   "version": "3.9.13"
  }
 },
 "nbformat": 4,
 "nbformat_minor": 5
}
